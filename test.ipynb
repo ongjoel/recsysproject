{
 "cells": [
  {
   "cell_type": "code",
   "execution_count": 2,
   "metadata": {},
   "outputs": [
    {
     "ename": "ModuleNotFoundError",
     "evalue": "No module named 'streamlit.report_thread'; 'streamlit' is not a package",
     "output_type": "error",
     "traceback": [
      "\u001b[1;31m---------------------------------------------------------------------------\u001b[0m",
      "\u001b[1;31mModuleNotFoundError\u001b[0m                       Traceback (most recent call last)",
      "\u001b[1;32mf:\\Visual Studio\\recsysproject\\test.ipynb Cell 1'\u001b[0m in \u001b[0;36m<cell line: 1>\u001b[1;34m()\u001b[0m\n\u001b[1;32m----> <a href='vscode-notebook-cell:/f%3A/Visual%20Studio/recsysproject/test.ipynb#ch0000000?line=0'>1</a>\u001b[0m \u001b[39mimport\u001b[39;00m \u001b[39mstreamlit\u001b[39;00m \u001b[39mas\u001b[39;00m \u001b[39mst\u001b[39;00m\n",
      "File \u001b[1;32mf:\\Visual Studio\\recsysproject\\streamlit.py:4\u001b[0m, in \u001b[0;36m<module>\u001b[1;34m\u001b[0m\n\u001b[0;32m      <a href='file:///f%3A/Visual%20Studio/recsysproject/streamlit.py?line=1'>2</a>\u001b[0m \u001b[39mimport\u001b[39;00m \u001b[39mpandas\u001b[39;00m \u001b[39mas\u001b[39;00m \u001b[39mpd\u001b[39;00m\n\u001b[0;32m      <a href='file:///f%3A/Visual%20Studio/recsysproject/streamlit.py?line=2'>3</a>\u001b[0m \u001b[39mimport\u001b[39;00m \u001b[39mnumpy\u001b[39;00m \u001b[39mas\u001b[39;00m \u001b[39mnp\u001b[39;00m\n\u001b[1;32m----> <a href='file:///f%3A/Visual%20Studio/recsysproject/streamlit.py?line=3'>4</a>\u001b[0m \u001b[39mimport\u001b[39;00m \u001b[39mSessionState\u001b[39;00m\n\u001b[0;32m      <a href='file:///f%3A/Visual%20Studio/recsysproject/streamlit.py?line=4'>5</a>\u001b[0m \u001b[39mimport\u001b[39;00m \u001b[39mos\u001b[39;00m\n\u001b[0;32m      <a href='file:///f%3A/Visual%20Studio/recsysproject/streamlit.py?line=5'>6</a>\u001b[0m \u001b[39mfrom\u001b[39;00m \u001b[39mPIL\u001b[39;00m \u001b[39mimport\u001b[39;00m Image\n",
      "File \u001b[1;32mf:\\Visual Studio\\recsysproject\\SessionState.py:27\u001b[0m, in \u001b[0;36m<module>\u001b[1;34m\u001b[0m\n\u001b[0;32m     <a href='file:///f%3A/Visual%20Studio/recsysproject/SessionState.py?line=23'>24</a>\u001b[0m     \u001b[39mfrom\u001b[39;00m \u001b[39mstreamlit\u001b[39;00m\u001b[39m.\u001b[39;00m\u001b[39mserver\u001b[39;00m\u001b[39m.\u001b[39;00m\u001b[39mServer\u001b[39;00m \u001b[39mimport\u001b[39;00m Server\n\u001b[0;32m     <a href='file:///f%3A/Visual%20Studio/recsysproject/SessionState.py?line=24'>25</a>\u001b[0m \u001b[39mexcept\u001b[39;00m \u001b[39mException\u001b[39;00m:\n\u001b[0;32m     <a href='file:///f%3A/Visual%20Studio/recsysproject/SessionState.py?line=25'>26</a>\u001b[0m     \u001b[39m# Streamlit >= 0.65.0\u001b[39;00m\n\u001b[1;32m---> <a href='file:///f%3A/Visual%20Studio/recsysproject/SessionState.py?line=26'>27</a>\u001b[0m     \u001b[39mimport\u001b[39;00m \u001b[39mstreamlit\u001b[39;00m\u001b[39m.\u001b[39;00m\u001b[39mreport_thread\u001b[39;00m \u001b[39mas\u001b[39;00m \u001b[39mReportThread\u001b[39;00m\n\u001b[0;32m     <a href='file:///f%3A/Visual%20Studio/recsysproject/SessionState.py?line=27'>28</a>\u001b[0m     \u001b[39mfrom\u001b[39;00m \u001b[39mstreamlit\u001b[39;00m\u001b[39m.\u001b[39;00m\u001b[39mserver\u001b[39;00m\u001b[39m.\u001b[39;00m\u001b[39mserver\u001b[39;00m \u001b[39mimport\u001b[39;00m Server\n\u001b[0;32m     <a href='file:///f%3A/Visual%20Studio/recsysproject/SessionState.py?line=30'>31</a>\u001b[0m \u001b[39mclass\u001b[39;00m \u001b[39mSessionState\u001b[39;00m(\u001b[39mobject\u001b[39m):\n",
      "\u001b[1;31mModuleNotFoundError\u001b[0m: No module named 'streamlit.report_thread'; 'streamlit' is not a package"
     ]
    }
   ],
   "source": [
    "import streamlit as st"
   ]
  }
 ],
 "metadata": {
  "interpreter": {
   "hash": "21037fb98e994f88acfc742685c115d9fa36d3331f67166e1978f3d9e632804e"
  },
  "kernelspec": {
   "display_name": "Python 3.8.12 ('tf24pc')",
   "language": "python",
   "name": "python3"
  },
  "language_info": {
   "codemirror_mode": {
    "name": "ipython",
    "version": 3
   },
   "file_extension": ".py",
   "mimetype": "text/x-python",
   "name": "python",
   "nbconvert_exporter": "python",
   "pygments_lexer": "ipython3",
   "version": "3.8.12"
  },
  "orig_nbformat": 4
 },
 "nbformat": 4,
 "nbformat_minor": 2
}
